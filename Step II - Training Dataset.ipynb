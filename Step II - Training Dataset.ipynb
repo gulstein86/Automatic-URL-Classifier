{
 "cells": [
  {
   "cell_type": "markdown",
   "metadata": {},
   "source": [
    "## Get the Data Source, and Prepare Training and Test set"
   ]
  },
  {
   "cell_type": "code",
   "execution_count": 1,
   "metadata": {
    "collapsed": true
   },
   "outputs": [],
   "source": [
    "#import all the required package\n",
    "import pandas as pd"
   ]
  },
  {
   "cell_type": "code",
   "execution_count": 2,
   "metadata": {
    "collapsed": true
   },
   "outputs": [],
   "source": [
    "#import all training dataset\n",
    "df_620 = pd.read_csv('./scraping_data/result_taobao.csv', header=None)\n",
    "df_621 = pd.read_csv('./scraping_data/result_621_2.csv', header=None)\n",
    "df_622_1 = pd.read_csv('./scraping_data/result_622.csv', header=None)\n",
    "df_622_2 = pd.read_csv('./scraping_data/result_622_add.csv', header=None)\n",
    "df_622 = pd.concat([df_622_1,df_622_2]) #merging these 2 dataframe since I scraped half way for the first 1 \n",
    "df_623 = pd.read_csv('./scraping_data/result_smartphone_623.csv', header=None)\n",
    "df_624 = pd.read_csv('./scraping_data/result_ereader_624.csv', header=None)\n",
    "df_625 = pd.read_csv('./scraping_data/result_625.csv', header=None)\n",
    "\n",
    "pd.set_option('display.max_colwidth', -1) #set this to remove truncated by jupyter/python"
   ]
  },
  {
   "cell_type": "code",
   "execution_count": 3,
   "metadata": {},
   "outputs": [
    {
     "data": {
      "text/plain": [
       "(214, 1)"
      ]
     },
     "execution_count": 3,
     "metadata": {},
     "output_type": "execute_result"
    }
   ],
   "source": [
    "df_620.shape"
   ]
  },
  {
   "cell_type": "code",
   "execution_count": 4,
   "metadata": {},
   "outputs": [
    {
     "name": "stdout",
     "output_type": "stream",
     "text": [
      "df_620 : korean-style solid spring and elastic waist wide leg pantsproduct details of korean-style solid spri\n",
      "df_621 : sports camera sport video 4k wifi action cam 16 mp underwater camcorder hd 1080p and 2 batteries 170\n",
      "df_622 : edifier luna e235 thx home theatre speaker system with bluetooth functionproduct details of edifier \n",
      "df_623 : sunweb stonex one android smart phone eu standard blue eu blue product details of sunweb stonex one \n",
      "df_624 : e-reader and smart phone holder tablet pc stand for iphone ipadwhiteproduct details of e-reader and \n",
      "df_625 : x2 couples wristband heart rate monitor smart watches blood pressure monitor smart band bluetooth ip\n"
     ]
    }
   ],
   "source": [
    "#print some sample to see the output\n",
    "print('df_620 :',df_620[0].to_string(index=False)[:100])\n",
    "print('df_621 :',df_621[0].to_string(index=False)[:100])\n",
    "print('df_622 :',df_622[0].to_string(index=False)[:100])\n",
    "print('df_623 :',df_623[0].to_string(index=False)[:100])\n",
    "print('df_624 :',df_624[0].to_string(index=False)[:100])\n",
    "print('df_625 :',df_625[0].to_string(index=False)[:100])"
   ]
  },
  {
   "cell_type": "code",
   "execution_count": 5,
   "metadata": {
    "collapsed": true
   },
   "outputs": [],
   "source": [
    "from nltk.tokenize import word_tokenize\n",
    "from nltk import pos_tag, FreqDist\n",
    "import random\n",
    "import pickle"
   ]
  },
  {
   "cell_type": "code",
   "execution_count": 6,
   "metadata": {
    "collapsed": true
   },
   "outputs": [],
   "source": [
    "# read the labelled all the source data\n",
    "def DataSources():\n",
    "    data_620 = df_620[0].to_string(index=False)\n",
    "    data_621 = df_621[0].to_string(index=False)\n",
    "    data_622 = df_622[0].to_string(index=False)\n",
    "    data_623 = df_623[0].to_string(index=False)\n",
    "    data_624 = df_624[0].to_string(index=False)\n",
    "    data_625 = df_625[0].to_string(index=False)\n",
    "    return data_620, data_621, data_622, data_623, data_624,data_625"
   ]
  },
  {
   "cell_type": "code",
   "execution_count": 7,
   "metadata": {
    "collapsed": true
   },
   "outputs": [],
   "source": [
    "# prepare the data\n",
    "def PrepareData():\n",
    "    train_620, train_621, train_622, train_623, train_624, train_625 = DataSources()\n",
    "    documents = []\n",
    "    all_words = []\n",
    "    \n",
    "#    j is adjective, r is adverb, and v is verb\n",
    "    allowed_word_types = [\"J\",\"R\",\"V\"]\n",
    "#     allowed_word_types = [\"J\"]\n",
    "\n",
    "    for p in train_620.split('\\n'):\n",
    "        documents.append((p,\"Others\"))\n",
    "        words = word_tokenize(p)\n",
    "        pos = pos_tag(words)\n",
    "        for w in pos:\n",
    "            if w[1][0] in allowed_word_types:\n",
    "                all_words.append(w[0].lower())\n",
    "\n",
    "\n",
    "    for p in train_621.split('\\n'):\n",
    "        documents.append((p,\"Consumer Electronics > Cameras and Camcorders\"))\n",
    "        words = word_tokenize(p)\n",
    "        pos = pos_tag(words)\n",
    "        for w in pos:\n",
    "            if w[1][0] in allowed_word_types:\n",
    "                all_words.append(w[0].lower())\n",
    "\n",
    "    for p in train_622.split('\\n'):\n",
    "        documents.append((p,\"Consumer Electronics > Home Entertainment Systems\"))\n",
    "        words = word_tokenize(p)\n",
    "        pos = pos_tag(words)\n",
    "        for w in pos:\n",
    "            if w[1][0] in allowed_word_types:\n",
    "                all_words.append(w[0].lower())\n",
    "\n",
    "    for p in train_623.split('\\n'):\n",
    "        documents.append((p,\"Technology & Computing > Consumer Electronics > Smartphones\"))\n",
    "        words = word_tokenize(p)\n",
    "        pos = pos_tag(words)\n",
    "        for w in pos:\n",
    "            if w[1][0] in allowed_word_types:\n",
    "                all_words.append(w[0].lower())\n",
    "\n",
    "    for p in train_624.split('\\n'):\n",
    "        documents.append((p,\"Technology & Computing > Consumer Electronics > Tablets and E-readers\"))\n",
    "        words = word_tokenize(p)\n",
    "        pos = pos_tag(words)\n",
    "        for w in pos:\n",
    "            if w[1][0] in allowed_word_types:\n",
    "                all_words.append(w[0].lower())\n",
    "                \n",
    "    for p in train_625.split('\\n'):\n",
    "        documents.append((p,\"Technology & Computing > Consumer Electronics > Wearable Technology\"))\n",
    "        words = word_tokenize(p)\n",
    "        pos = pos_tag(words)\n",
    "        for w in pos:\n",
    "            if w[1][0] in allowed_word_types:\n",
    "                all_words.append(w[0].lower())\n",
    "                \n",
    "    save_documents = open(\"saved/documents.p\", \"wb\")\n",
    "    pickle.dump(documents, save_documents)\n",
    "    save_documents.close()\n",
    "\n",
    "    all_words = FreqDist(all_words)\n",
    "#     word_features = list(all_words.keys())[:5000]\n",
    "    word_features = list(all_words.keys())[:]\n",
    "\n",
    "    save_word_features = open(\"saved/word_features.p\", \"wb\")\n",
    "    pickle.dump(word_features, save_word_features)\n",
    "    save_word_features.close()\n",
    "\n",
    "    features = [(find_features(rev, word_features), category) for (rev, category) in documents]\n",
    "    return features\n",
    "\n",
    "\n",
    "def find_features(document, word_features):\n",
    "    words = word_tokenize(document) #tokenize rev\n",
    "    features = {}\n",
    "    for w in word_features: #word_features list all_words.keys\n",
    "        features[w] = (w in words)\n",
    "    return features\n",
    "\n",
    "\n",
    "def TestTrainData():\n",
    "    featuresets = PrepareData()\n",
    "    random.shuffle(featuresets)\n",
    "#    print(len(featuresets))\n",
    "    testing_set = featuresets[10000:]\n",
    "    training_set = featuresets[:10000]\n",
    "    return training_set, testing_set"
   ]
  },
  {
   "cell_type": "markdown",
   "metadata": {},
   "source": [
    "## Train Classifiers and store them"
   ]
  },
  {
   "cell_type": "code",
   "execution_count": 8,
   "metadata": {
    "collapsed": true
   },
   "outputs": [],
   "source": [
    "from nltk.classify.scikitlearn import SklearnClassifier\n",
    "from sklearn.naive_bayes import MultinomialNB, BernoulliNB\n",
    "from sklearn.linear_model import LogisticRegression, SGDClassifier\n",
    "from sklearn.svm import LinearSVC\n",
    "from nltk import NaiveBayesClassifier, classify\n",
    "import pickle\n",
    "\n",
    "\n",
    "def TrainClassifiers():\n",
    "    training_set, testing_set = TestTrainData()\n",
    "\n",
    "    classifiers = list()\n",
    "    classifier_name = list()\n",
    "\n",
    "    NaiveBayesClassifier_classifier = NaiveBayesClassifier.train(training_set)\n",
    "    classifiers.append(NaiveBayesClassifier_classifier)\n",
    "    classifier_name.append(\"NaiveBayesClassifier\")\n",
    "\n",
    "    MNB_classifier = SklearnClassifier(MultinomialNB())\n",
    "    MNB_classifier.train(training_set)\n",
    "    classifiers.append(MNB_classifier)\n",
    "    classifier_name.append(\"MultinomialNBClassifier\")\n",
    "\n",
    "    BernoulliNB_classifier = SklearnClassifier(BernoulliNB())\n",
    "    BernoulliNB_classifier.train(training_set)\n",
    "    classifiers.append(BernoulliNB_classifier)\n",
    "    classifier_name.append(\"BernoulliNBClassifier\")\n",
    "\n",
    "    LogisticRegression_classifier = SklearnClassifier(LogisticRegression())\n",
    "    LogisticRegression_classifier.train(training_set)\n",
    "    classifiers.append(LogisticRegression_classifier)\n",
    "    classifier_name.append(\"LogisticRegressionClassifier\")\n",
    "\n",
    "    LinearSVC_classifier = SklearnClassifier(LinearSVC())\n",
    "    LinearSVC_classifier.train(training_set)\n",
    "    classifiers.append(LogisticRegression_classifier)\n",
    "    classifier_name.append(\"LinearSVCClassifier\")\n",
    "\n",
    "    SGDC_classifier = SklearnClassifier(SGDClassifier())\n",
    "    SGDC_classifier.train(training_set)\n",
    "    classifiers.append(SGDC_classifier)\n",
    "    classifier_name.append(\"SGDClassifier\")\n",
    "\n",
    "    SaveClassifiers(classifiers, classifier_name)\n",
    "\n",
    "    return classifiers\n",
    "\n",
    "\n",
    "def SaveClassifiers(classifiers, classifier_name):\n",
    "\n",
    "    for i in range(0, len(classifiers)):\n",
    "        save_classifier_path = open(\"saved/\" + classifier_name[i] + \".p\", \"wb\")\n",
    "        pickle.dump(classifiers[i], save_classifier_path)\n",
    "        save_classifier_path.close()\n",
    "\n",
    "    save_classifier_path = open(\"saved/classifier_name.p\", \"wb\")\n",
    "    pickle.dump(classifier_name, save_classifier_path)"
   ]
  },
  {
   "cell_type": "markdown",
   "metadata": {},
   "source": [
    "## Category Classifier : Which categories?"
   ]
  },
  {
   "cell_type": "code",
   "execution_count": 9,
   "metadata": {
    "collapsed": true
   },
   "outputs": [],
   "source": [
    "class IABClassification:\n",
    "\n",
    "    def __init__(self):\n",
    "        classifiers = TrainClassifiers()\n",
    "\n",
    "#     def Analyse(self, text):\n",
    "#         new_features = find_features(text, self.new_features)\n",
    "#         return self.votedClassifier.classify(new_features), self.votedClassifier.confidence(new_features)"
   ]
  },
  {
   "cell_type": "markdown",
   "metadata": {},
   "source": [
    "## Creating classifier for IABClassification"
   ]
  },
  {
   "cell_type": "code",
   "execution_count": 10,
   "metadata": {
    "collapsed": true
   },
   "outputs": [],
   "source": [
    "# turn off pickle warning\n",
    "import warnings\n",
    "warnings.filterwarnings('ignore')"
   ]
  },
  {
   "cell_type": "code",
   "execution_count": 11,
   "metadata": {
    "collapsed": true
   },
   "outputs": [],
   "source": [
    "s = IABClassification() #initiate train classifier"
   ]
  }
 ],
 "metadata": {
  "kernelspec": {
   "display_name": "Python 3",
   "language": "python",
   "name": "python3"
  },
  "language_info": {
   "codemirror_mode": {
    "name": "ipython",
    "version": 3
   },
   "file_extension": ".py",
   "mimetype": "text/x-python",
   "name": "python",
   "nbconvert_exporter": "python",
   "pygments_lexer": "ipython3",
   "version": "3.5.4"
  }
 },
 "nbformat": 4,
 "nbformat_minor": 2
}
