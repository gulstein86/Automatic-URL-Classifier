{
 "cells": [
  {
   "cell_type": "markdown",
   "metadata": {},
   "source": [
    "## Get the Data Source, and Prepare Training and Test set"
   ]
  },
  {
   "cell_type": "code",
   "execution_count": 26,
   "metadata": {
    "collapsed": true
   },
   "outputs": [],
   "source": [
    "#import all the required package\n",
    "import pandas as pd"
   ]
  },
  {
   "cell_type": "code",
   "execution_count": 27,
   "metadata": {
    "collapsed": true
   },
   "outputs": [],
   "source": [
    "#import all training dataset\n",
    "df_620 = pd.read_csv('./scraping_data/result_taobao.csv', header=None)\n",
    "df_621 = pd.read_csv('./scraping_data/result_621_2.csv', header=None)\n",
    "df_622_1 = pd.read_csv('./scraping_data/result_622.csv', header=None)\n",
    "df_622_2 = pd.read_csv('./scraping_data/result_622_add.csv', header=None)\n",
    "df_622 = pd.concat([df_622_1,df_622_2])\n",
    "df_623 = pd.read_csv('./scraping_data/result_smartphone_623.csv', header=None)\n",
    "df_624 = pd.read_csv('./scraping_data/result_ereader_624.csv', header=None)\n",
    "df_625 = pd.read_csv('./scraping_data/result_625.csv', header=None)\n",
    "\n",
    "pd.set_option('display.max_colwidth', -1) #set this for remove truncated by jupyter/python"
   ]
  },
  {
   "cell_type": "code",
   "execution_count": 13,
   "metadata": {
    "collapsed": true
   },
   "outputs": [
    {
     "name": "stdout",
     "output_type": "stream",
     "text": [
      "df_620                                                                                                                                                                                                                                                                                                                                                                                                                                                                                                                                                                                                                                                                                                                                                                                                                                                                                                                                                                                                                                                                                                                                                                                                                                                                                                                                                                                                                                                                                                                                                                                                                                                                                                                                                                                                                                                                                                                                                                                                                                                                                                                                                                                                                                                                                                                                                                                                                                                                                                                                                                                                                                                                                                                                                                                                                                                                                                                                                                                                                                                                                                                                                                                                                                                                                   0\n",
      "0  korean-style solid spring and elastic waist wide leg pantsproduct details of korean-style solid spring and elastic waist wide leg pants <img src='https:ororimg.alicdn.comorimgextraori3or3406874323ortb2iopbhuuil1jjszfrxxb3xfxa_!!3406874323.png'> <img src='https:ororimg.alicdn.comorimgextraori1or719851228ortb2vhhnmwmpmejjy1xcxxxpppxa_!!719851228.jpg' alt='' width='750' height='360'> <img src='https:ororimg.alicdn.comorimgextraori2or719851228ortb2o0.zen1z01jjszfcxxxy.xxa_!!719851228.jpg' alt='' width='750' height='360'> <img src='https:ororimg.alicdn.comorimgextraori3or719851228ortb2orq1lnomskjjszflxxxqqfxa_!!719851228.jpg' usemap='#hlg_map_1506562850323_1'> <img src='https:ororimg.alicdn.comorimgextraori1or719851228ortb2orcpcwagskjjy0fgxxcrqfxa_!!719851228.jpg' alt='' width='750' height='314'>   specifications waist hip legs around leg around trousers around pants long     are code 66 can pull to 110 62 can pull to 146 72 can stretch to 82 72 can stretch to 82 72 can stretch to 82 79   <img align='absmiddle' src='https:ororimg.alicdn.comorimgextraori1or719851228ortb2muvvobxlpufjsszfxxcsgxxa_!!719851228.jpg'> <img align='absmiddle' src='https:ororimg.alicdn.comorimgextraori2or719851228ortb2h6lgognlpufjy0ffxxx3cpxa_!!719851228.jpg'> <img align='absmiddle' src='https:ororimg.alicdn.comorimgextraori4or719851228ortb2kci2omjjpufjy0fdxxxmofxa_!!719851228.jpg'> <img align='absmiddle' src='https:ororimg.alicdn.comorimgextraori3or719851228ortb2qov8qybnpufjszfgxxx51pxa_!!719851228.jpg'> <img align='absmiddle' src='https:ororimg.alicdn.comorimgextraori4or719851228ortb2svbsob0kpufjy0fjxxcbbvxa_!!719851228.jpg'> <img align='absmiddle' src='https:ororimg.alicdn.comorimgextraori1or719851228ortb2gu7oobplpufjsspixxcdffxa_!!719851228.jpg'> <img align='absmiddle' src='https:ororimg.alicdn.comorimgextraori1or719851228ortb2whjbrd4opufjszflxxx8mxxa_!!719851228.jpg'> <img align='absmiddle' src='https:ororimg.alicdn.comorimgextraori2or719851228ortb2zysiq5lnpufjszfgxxbi7fxa_!!719851228.jpg'> <img align='absmiddle' src='https:ororimg.alicdn.comorimgextraori2or719851228ortb27kxcrhlmpufjszpfxxc9ixxa_!!719851228.jpg'> <img align='absmiddle' src='https:ororimg.alicdn.comorimgextraori3or719851228ortb26da.qy4npufjszfmxxxl4fxa_!!719851228.jpg'> <img align='absmiddle' src='https:ororimg.alicdn.comorimgextraori3or719851228ortb2dpskogfkpufjsspnxxb4qfxa_!!719851228.jpg'> <img align='absmiddle' src='https:ororimg.alicdn.comorimgextraori4or719851228ortb2iilnogjkpufjsszcxxxfsfxa_!!719851228.jpg'> .......... ...... <img src='https:ororimg.alicdn.comortpsortb1go0dpvxxxxxbaxxxxxxxxxxx-908-257.png'or> view less┏ ┏ a eleven price, direct a hail them a eleven services, guaranteeing them a hail a ┏ a one hundred ride, fashion a hail them ┊ cost ★ ★ ★ caring service ┊ ┊ ┊ ┊ commitment to seven days no reason returned ★ ★ ★ ★ ★ pro satisfied with our pursuit of ┊ ┗ from 1111 to 1111 a eleven ┛ ┗ 1111 1111 eleven ┛ ┗ ┛ a one by one from 1111 to 1111 pants long : pantyhose item : 4895 pants pants : wide leg pants high waist panty : waist style : peanut the thickness of the : conventional year season : in the summer of 2017 applicable age : olds age\n",
      "df_621                                                                                                                                                                                                                                                                                                                                                                                                                                                                                                                                                                                                                                                                                                                                                                                                                                                                                                                                                                                                                                                                                                                                                                                                                                                                                                                                                                                                                                                                                                                                                                                                                                                                                                                                                                                                                                                                                                                                                                                                                                                                                                                                                                                                                                                                                                                                                                                                                                                                                                                                                                                                                                                                                                                                                                                                                                                                                                                                                                                                                                                                                                                                                                                                                                                                                                                                                                                                                                                                                                                                                                                                                                                                                                                                                                                                                                                                                                                                                                                                                                                                                                                                                                                                                                                                                                                                                                                                                                                                                                                                                                                                                                                                                                                                                                                                                                                                                                                                                                                                                                                                              0\n",
      "0  sports camera sport video 4k wifi action cam 16 mp underwater camcorder hd 1080p and 2 batteries 170° wide-angle pinkproduct details of sports camera sport video 4k wifi action cam 16 mp underwater camcorder hd 1080p and 2 batteries 170° wide-angle pink <img src= 'https:orormy-live.slatic.netorv2orresizeorproductsors-100004012-62516a44bacfd5821304e2f43786e3c9.jpg'> sports camera sport video 4k wifi action cam 16 mp underwater camcorder hd 1080p and 2 batteries 170° wide-angle pink <img src= 'https:orormy-live.slatic.netorv2orresizeorproductsors-100004012-7fde4511311256f810029445174ebaf4.jpg'> <img src= 'https:orormy-live.slatic.netorv2orresizeorproductsors-100004012-fb2e87eee2f2478ce900923001ad87ac.jpg'> <img src= 'https:orormy-live.slatic.netorv2orresizeorproductsors-100004012-1dfbe32978f781b9189e9a33e537ff3d.jpg'> <img src= 'https:orormy-live.slatic.netorv2orresizeorproductsors-100004012-4b9cb18d2d0c25e382e818318d5f8ab3.jpg'> <img src= 'https:orormy-live.slatic.netorv2orresizeorproductsors-100004012-bfa310ce26c2bc1cda676e69121cbb4f.jpg'> <img src= 'https:orormy-live.slatic.netorv2orresizeorproductsors-100004012-d9768de89e254453d999f5781f3ec85f.jpg'> product description a 4k sports camera, you can normally use underwater, includes 2 replaceable 900mah batteries and full set of accessories. you will no more worry about the recording time for this action camera. 170 degrees wide angle full set of accessories so that you can fix the camera in any environment and take clear pictures. specifications: screen size: 2.0inch photo format: jpg features: anti-shock, 1080p,170°wide angle, 4k ultra hd, waterproof 20m function with the water-resistant case audio: yes photo: yes photo resolution: 12m 4032x3024;10m 3648x2736;8m 3264x2448;5m 2592x1944;3m 2048x1536;2mhd 1920x1080 video resolution: 1080p fhd 1920x1080 30fps;720p 1280x720 60fps wide angle: 170 degree motion detection: yes storage card slot: tf card maximum storage supported: 32gb charge time: about 3.5 hours battery type: rechargeable lithium-ion battery battery capacity: 900mah ports: micro hdmi hdmi type d , micro usb color: blackorblueorgoldorpinkorsilverorwhiteoryellow dimension mm : 268*162*61 package included : 1x batteries 900mah 1 x sport action camera, waterproof case 1 x bicycle stand, base 1, base 2, clip, fixed base 1 x switch support 1, witch support 2, switch support 3 1 x adapter：helmet base , bandage, ribbon, 3m adhesive tape 1 x wire rope, data wire, manual, wiper feature ● 16mp and 170°hd wide-angle lens: capture breath-taking moments and footage of every adventure. back-illuminated sensor with low-light sensitive night vision for shooting night scene perfectly, 170 degrees ultra wide angle lens for shooting broader vision ● ultra 4k action camera with high definition:4k@30fpsor2.7k@30fpsor1080p@60fpsor1080p@30fpsor720p@120fps,2.0 inch high definition back screen that displays and replays good videos recorded.for filming every moment of your life ● built-in wifi wireless module: effective distance up to 3-5meters, apply on your phone or tablet, easily record videos and take photoes, upload and share every moments timely. android or ios devices all supported. support external high speed sd card max to 32gb ● it can be up to a depth of 20 meters, you can have a seabed tour and surfing, free shot, bringing amazing movement and enjoyable shooting experience ● applications: no any burden when rock climbing, diving and other extreme sports, vehicle-mounted recording, take pictures underwater, from your bike, your car, or screwed onto a helmet, home security,etc brand : southstardigital item model num : h6 mpn partnumber : red ean : 0611517060250 product dimensions lxwxh : 7x3x5cm ; 481 g package dimensions lxwxh : 28x17x7cm ; 481 g view less● 16mp and 170°hd wide-angle lens: capture breath-taking moments and footage of every adventure. back-illuminated sensor with low-light sensitive night vision for shooting night scene perfectly, 170 degrees ultra wide angle lens for shooting broader vision ● ultra 4k action camera with high definition:4k@30fpsor2.7k@30fpsor1080p@60fpsor1080p@30fpsor720p@120fps,2.0 inch high definition back screen that displays and replays good videos recorded.for filming every moment of your life ● built-in wifi wireless module: effective distance up to 3-5meters, apply on your phone or tablet, easily record videos and take photoes, upload and share every moments timely. android or ios devices all supported. support external high speed sd card max to 32gb ● it can be up to a depth of 20 meters, you can have a seabed tour and surfing, free shot, bringing amazing movement and enjoyable shooting experience ● applications: no any burden when rock climbing, diving and other extreme sports, vehicle-mounted recording, take pictures underwater, from your bike, your car, or screwed onto a helmet, home security,etc\n",
      "df_622                                                                                                                                                                                                                                                                                                                                                                                                     0\n",
      "0  edifier luna e235 thx home theatre speaker system with bluetooth functionproduct details of edifier luna e235 thx home theatre speaker system with bluetooth function <img alt='e235thx_lazada-landing-page_800px.jpg' src='https:orormy-live.slatic.netororiginalorbfa7550ff1ee5efbb8d47c2b0a122ca4.jpg'or> view lessaward-winning 2.1 sound system 5.8g wireless subwoofer bluetooth 4.0 pairing\n",
      "df_623                                                                                                                                                                                                                                                                                                                                                                                                                                                                                                                                                                                                                                                                                                                                                                                                                                                                                                                                                                                                                                                                                                                                                                                                                                                                                                                                                                                                                                                                                                                                                                                                             0\n",
      "0  sunweb stonex one android smart phone eu standard blue eu blue product details of sunweb stonex one android smart phone eu standard blue eu blue dimension: 150.9 x 75.7 x 8.3mm material: metal, plastic, glass color: blue operation system: android 5.1 lollipop cpu: mtk 6795 cpu speed: 2.0 ghz a53 ram+rom: 3+32g memory card: t-flash max. expansion supported: 64gb screen size inches : 5.5 inches screen resolution: qhd 2560 x 1440  ips camera pixe: 21 mp front camera: 8 mp network: 2g gsm or gprs or edge 850 or 900 or 1800 or 1900mhz , 3g wcdma 900 or 2100mhz hsdpa , 4g lte 800 or 1800or2600 mhz fdd lte sim card: micro sim bluetooth version: bt4.0 headphone jack: 3.5mm battery: li-ion lithium ion 3000mah usb: micro usb 5 pin sensor: g-sensor, light and proximity sensor, m- sensor including ecompass , gyroscope, pressure sensor android 5.1 lollipop operation system qhd 5.5inch screen, large storage front 8mp+back 21mp camera package content: 1 x stonex one smart phone, 1 x battery, 1 x earphone, 1 x usb cable, 1 x eu standard adapter, 1 x user manual note: due to the difference between different monitors, the picture may not reflect the actual color of the item. we guarantee the style is the same as shown in the pictures, but not the same performance on different bodies as on the model. thank you!operation system: android 5.1 lollipop cpu: mtk 6795 ram+rom: 3+32g screen size inches : 5.5 inches screen resolution: qhd 2560 x 1440  ips camera pixe: 21 mp front camera: 8 mp sim card: micro sim battery: li-ion lithium ion 3000mah\n",
      "df_624                                                                                                                                                                                                                                                                                                                                                                                                                                                                                                                                                                                           0\n",
      "0  e-reader and smart phone holder tablet pc stand for iphone ipadwhiteproduct details of e-reader and smart phone holder tablet pc stand for iphone ipadwhite material: plastic package:yes material:: engineering plastic feature:multi-stand other feature: foldable size when folded: 11 x 6.8 x 2.5 cm product weight: 40g  'universal for iphone and any other smart phones universal for ipad and any other tablets universal for kindle and any other e-readers multi angle: there are 3 angles you can select to use easy to use. easy to carry. super light folded like f1 racing\n"
     ]
    }
   ],
   "source": [
    "print('df_620',df_620.head(1))\n",
    "print('df_621',df_621.head(1))\n",
    "print('df_622',df_622.head(1))\n",
    "print('df_623',df_623.head(1))\n",
    "print('df_624',df_624.head(1))\n",
    "print('df_625',df_625.head(1))"
   ]
  },
  {
   "cell_type": "code",
   "execution_count": 14,
   "metadata": {
    "collapsed": true
   },
   "outputs": [
    {
     "data": {
      "text/plain": [
       "\"1    summer icy sleeves sun protection gloves for men and women anti-uv thin long ice silk sun protection sleeve sleeves driving arm sleeve black thumb models product details of summer icy sleeves sun protection gloves for men and women anti-uv thin long ice silk sun protection sleeve sleeves driving arm sleeve black thumb models <img src='https:ororimg.alicdn.comorimgextraori3or3406874323ortb2iopbhuuil1jjszfrxxb3xfxa_!!3406874323.png'> <img id='desc-module-1' src='https:ororassets.alicdn.comorkissyor1.0.0orbuildorimglazyloadorspaceball.gif'> <img src='https:ororimg.alicdn.comorimgextraori2or929593080ortb2npmzd2nw1ejjszfqxxa8svxa_!!929593080.jpg' alt=''> \\xa0 <img src='https:ororimg.alicdn.comorimgextraori4or929593080ortb2orzkgh3il1jjszpfxxcruvxa_!!929593080.jpg' align='absmiddle'> <img align='absmiddle' src='https:ororimg.alicdn.comorimgextraori2or929593080ortb2rzvlp9fjpufjsszhxxabuvxa_!!929593080.jpg'> <img align='absmiddle' src='https:ororimg.alicdn.comorimgextraori2or929593080ortb2qvqzsybmpufjszfuxxag_xxa_!!929593080.jpg'> <img align='absmiddle' src='https:ororimg.alicdn.comorimgextraori2or929593080ortb21rwrp3rkpufjy1zexxc.6fxa_!!929593080.jpg'> <img align='absmiddle' src='https:ororimg.alicdn.comorimgextraori1or929593080ortb2fwvsp4dkpufjy0fbxxannpxa_!!929593080.jpg'> <img align='absmiddle' src='https:ororimg.alicdn.comorimgextraori4or929593080ortb263oyp3fkpufjsspnxxb4qfxa_!!929593080.jpg'> <img align='absmiddle' src='https:ororimg.alicdn.comorimgextraori3or929593080ortb2fwhmib_0ukfjy1xaxxbkfxxa_!!929593080.jpg'> <img align='absmiddle' src='https:ororimg.alicdn.comorimgextraori2or929593080ortb2aoxzp4xlpufjssphxxbjoxxa_!!929593080.jpg'> <img align='absmiddle' src='https:ororimg.alicdn.comorimgextraori1or929593080ortb25ulhp30kpufjsspdxxx4yxxa_!!929593080.jpg'> <img align='absmiddle' src='https:ororimg.alicdn.comorimgextraori4or929593080ortb2ydahs4lmpufjszpfxxc9ixxa_!!929593080.jpg'> <img align='absmiddle' src='https:ororimg.alicdn.comorimgextraori2or929593080ortb2smyrsztnpufjszfkxxalffxa_!!929593080.jpg'> <img align='absmiddle' src='https:ororimg.alicdn.comorimgextraori3or929593080ortb2h6ljp9jjpufjy0fdxxxmofxa_!!929593080.jpg'> <img align='absmiddle' src='https:ororimg.alicdn.comorimgextraori3or929593080ortb20hops9fmpufjszfrxxayoxxa_!!929593080.jpg'> <img align='absmiddle' src='https:ororimg.alicdn.comorimgextraori4or929593080ortb2iworpyjkpufjy1zcxxa5ffxa_!!929593080.jpg'> <img align='absmiddle' src='https:ororimg.alicdn.comorimgextraori4or929593080ortb2fx3zsybmpufjszfuxxag_xxa_!!929593080.jpg'> <img align='absmiddle' src='https:ororimg.alicdn.comorimgextraori3or929593080ortb2ydg5xnbmpufjszfsxxcxpfxa_!!929593080.jpg'> template protection code <img src='https:ororimg.alicdn.comortpsortb1go0dpvxxxxxbaxxxxxxxxxxx-908-257.png'or> view lesssunscreen uv cold breathable men and women universal listing time : 2015 summer brand : cityfoxorurban flying fox item no. : cf8736 riding clothes accessories type : riding cufforarm sleeve\""
      ]
     },
     "execution_count": 14,
     "metadata": {},
     "output_type": "execute_result"
    }
   ],
   "source": [
    "df_620[0][1:2].to_string()"
   ]
  },
  {
   "cell_type": "code",
   "execution_count": 28,
   "metadata": {
    "collapsed": true
   },
   "outputs": [],
   "source": [
    "from nltk.tokenize import word_tokenize\n",
    "from nltk import pos_tag, FreqDist\n",
    "import random\n",
    "import pickle"
   ]
  },
  {
   "cell_type": "code",
   "execution_count": 37,
   "metadata": {
    "collapsed": true
   },
   "outputs": [],
   "source": [
    "# read the labelled all the source data\n",
    "def DataSources():\n",
    "    data_620 = df_620[0].to_string()\n",
    "    data_621 = df_621[0].to_string()\n",
    "    data_622 = df_622[0].to_string()\n",
    "    data_623 = df_623[0].to_string()\n",
    "    data_624 = df_624[0].to_string()\n",
    "    data_625 = df_625[0].to_string()\n",
    "    return data_620, data_621, data_622, data_623, data_624,data_625"
   ]
  },
  {
   "cell_type": "code",
   "execution_count": 30,
   "metadata": {
    "collapsed": true
   },
   "outputs": [],
   "source": [
    "# prepare the data\n",
    "def PrepareData():\n",
    "    train_620, train_621, train_622, train_623, train_624, train_625 = DataSources()\n",
    "    documents = []\n",
    "    all_words = []\n",
    "    \n",
    "#    j is adjective, r is adverb, and v is verb\n",
    "    allowed_word_types = [\"J\",\"R\",\"V\"]\n",
    "#     allowed_word_types = [\"J\"]\n",
    "\n",
    "    for p in train_620.split('\\n'):\n",
    "        documents.append((p,\"Others\"))\n",
    "        words = word_tokenize(p)\n",
    "        pos = pos_tag(words)\n",
    "        for w in pos:\n",
    "            if w[1][0] in allowed_word_types:\n",
    "                all_words.append(w[0].lower())\n",
    "\n",
    "\n",
    "    for p in train_621.split('\\n'):\n",
    "        documents.append((p,\"Consumer Electronics > Cameras and Camcorders\"))\n",
    "        words = word_tokenize(p)\n",
    "        pos = pos_tag(words)\n",
    "        for w in pos:\n",
    "            if w[1][0] in allowed_word_types:\n",
    "                all_words.append(w[0].lower())\n",
    "\n",
    "    for p in train_622.split('\\n'):\n",
    "        documents.append((p,\"Consumer Electronics > Home Entertainment Systems\"))\n",
    "        words = word_tokenize(p)\n",
    "        pos = pos_tag(words)\n",
    "        for w in pos:\n",
    "            if w[1][0] in allowed_word_types:\n",
    "                all_words.append(w[0].lower())\n",
    "\n",
    "    for p in train_623.split('\\n'):\n",
    "        documents.append((p,\"Technology & Computing > Consumer Electronics > Smartphones\"))\n",
    "        words = word_tokenize(p)\n",
    "        pos = pos_tag(words)\n",
    "        for w in pos:\n",
    "            if w[1][0] in allowed_word_types:\n",
    "                all_words.append(w[0].lower())\n",
    "\n",
    "    for p in train_624.split('\\n'):\n",
    "        documents.append((p,\"Technology & Computing > Consumer Electronics > Tablets and E-readers\"))\n",
    "        words = word_tokenize(p)\n",
    "        pos = pos_tag(words)\n",
    "        for w in pos:\n",
    "            if w[1][0] in allowed_word_types:\n",
    "                all_words.append(w[0].lower())\n",
    "                \n",
    "    for p in train_625.split('\\n'):\n",
    "        documents.append((p,\"Technology & Computing > Consumer Electronics > Wearable Technology\"))\n",
    "        words = word_tokenize(p)\n",
    "        pos = pos_tag(words)\n",
    "        for w in pos:\n",
    "            if w[1][0] in allowed_word_types:\n",
    "                all_words.append(w[0].lower())\n",
    "                \n",
    "    save_documents = open(\"saved/documents.p\", \"wb\")\n",
    "    pickle.dump(documents, save_documents)\n",
    "    save_documents.close()\n",
    "\n",
    "    all_words = FreqDist(all_words)\n",
    "#     word_features = list(all_words.keys())[:5000]\n",
    "    word_features = list(all_words.keys())[:]\n",
    "\n",
    "    save_word_features = open(\"saved/word_features5k.p\", \"wb\")\n",
    "    pickle.dump(word_features, save_word_features)\n",
    "    save_word_features.close()\n",
    "\n",
    "    features = [(find_features(rev, word_features), category) for (rev, category) in documents]\n",
    "    return features\n",
    "\n",
    "\n",
    "def find_features(document, word_features):\n",
    "    words = word_tokenize(document)\n",
    "    features = {}\n",
    "    for w in word_features:\n",
    "        features[w] = (w in words)\n",
    "    return features\n",
    "\n",
    "\n",
    "def TestTrainData():\n",
    "    featuresets = PrepareData()\n",
    "    random.shuffle(featuresets)\n",
    "#    print(len(featuresets))\n",
    "    testing_set = featuresets[10000:]\n",
    "    training_set = featuresets[:10000]\n",
    "    return training_set, testing_set"
   ]
  },
  {
   "cell_type": "markdown",
   "metadata": {},
   "source": [
    "## Train Classifiers and store them"
   ]
  },
  {
   "cell_type": "code",
   "execution_count": 31,
   "metadata": {
    "collapsed": true
   },
   "outputs": [],
   "source": [
    "from nltk.classify.scikitlearn import SklearnClassifier\n",
    "from sklearn.naive_bayes import MultinomialNB, BernoulliNB\n",
    "from sklearn.linear_model import LogisticRegression, SGDClassifier\n",
    "from sklearn.svm import LinearSVC\n",
    "from nltk import NaiveBayesClassifier, classify\n",
    "import pickle\n",
    "\n",
    "\n",
    "def TrainClassifiers():\n",
    "    training_set, testing_set = TestTrainData()\n",
    "\n",
    "    classifiers = list()\n",
    "    classifier_name = list()\n",
    "\n",
    "    NaiveBayesClassifier_classifier = NaiveBayesClassifier.train(training_set)\n",
    "    classifiers.append(NaiveBayesClassifier_classifier)\n",
    "    classifier_name.append(\"NaiveBayesClassifier\")\n",
    "\n",
    "    MNB_classifier = SklearnClassifier(MultinomialNB())\n",
    "    MNB_classifier.train(training_set)\n",
    "    classifiers.append(MNB_classifier)\n",
    "    classifier_name.append(\"MultinomialNBClassifier\")\n",
    "\n",
    "    BernoulliNB_classifier = SklearnClassifier(BernoulliNB())\n",
    "    BernoulliNB_classifier.train(training_set)\n",
    "    classifiers.append(BernoulliNB_classifier)\n",
    "    classifier_name.append(\"BernoulliNBClassifier\")\n",
    "\n",
    "    LogisticRegression_classifier = SklearnClassifier(LogisticRegression())\n",
    "    LogisticRegression_classifier.train(training_set)\n",
    "    classifiers.append(LogisticRegression_classifier)\n",
    "    classifier_name.append(\"LogisticRegressionClassifier\")\n",
    "\n",
    "    LinearSVC_classifier = SklearnClassifier(LinearSVC())\n",
    "    LinearSVC_classifier.train(training_set)\n",
    "    classifiers.append(LogisticRegression_classifier)\n",
    "    classifier_name.append(\"LinearSVCClassifier\")\n",
    "\n",
    "    SGDC_classifier = SklearnClassifier(SGDClassifier())\n",
    "    SGDC_classifier.train(training_set)\n",
    "    classifiers.append(SGDC_classifier)\n",
    "    classifier_name.append(\"SGDClassifier\")\n",
    "\n",
    "    SaveClassifiers(classifiers, classifier_name)\n",
    "\n",
    "    return classifiers\n",
    "\n",
    "\n",
    "def SaveClassifiers(classifiers, classifier_name):\n",
    "\n",
    "    for i in range(0, len(classifiers)):\n",
    "        save_classifier_path = open(\"saved/\" + classifier_name[i] + \".p\", \"wb\")\n",
    "        pickle.dump(classifiers[i], save_classifier_path)\n",
    "        save_classifier_path.close()\n",
    "\n",
    "    save_classifier_path = open(\"saved/classifier_name.p\", \"wb\")\n",
    "    pickle.dump(classifier_name, save_classifier_path)"
   ]
  },
  {
   "cell_type": "markdown",
   "metadata": {},
   "source": [
    "## Load the trained classifiers"
   ]
  },
  {
   "cell_type": "code",
   "execution_count": 32,
   "metadata": {
    "collapsed": true
   },
   "outputs": [],
   "source": [
    "import random\n",
    "import pickle\n",
    "from nltk.tokenize import word_tokenize\n",
    "from nltk import classify\n",
    "\n",
    "\n",
    "def find_features(document, word_features):\n",
    "    words = word_tokenize(document)\n",
    "    features = {}\n",
    "    for w in word_features:\n",
    "        features[w] = (w in words)\n",
    "    return features\n",
    "\n",
    "\n",
    "def LoadData(shuffle=False):\n",
    "\n",
    "    documents_f = open(\"saved/documents.p\", \"rb\")\n",
    "    documents = pickle.load(documents_f)\n",
    "    documents_f.close()\n",
    "\n",
    "    documents_f = open(\"saved/word_features5k.p\", \"rb\")\n",
    "    word_features = pickle.load(documents_f)\n",
    "    documents_f.close()\n",
    "\n",
    "    features = [(find_features(rev, word_features), category) for (rev, category) in documents]\n",
    "\n",
    "    if shuffle:\n",
    "        random.shuffle(features)\n",
    "\n",
    "    testing_set = features[100:]\n",
    "    training_set = features[:100]\n",
    "\n",
    "    return training_set, testing_set\n",
    "\n",
    "\n",
    "def LoadClassifiers():\n",
    "    document = open(\"saved/classifier_name.p\", \"rb\")\n",
    "    classifier_name = pickle.load(document)\n",
    "    document.close()\n",
    "    # print(classifier_name)\n",
    "    classifiers = list()\n",
    "\n",
    "#     training_set, testing_set = LoadData()\n",
    "\n",
    "    for name in classifier_name:\n",
    "        document = open(\"saved/\" + name + \".p\", \"rb\")\n",
    "        classifier = pickle.load(document)\n",
    "        classifiers.append(classifier)\n",
    "        document.close()\n",
    "\n",
    "    return classifiers\n",
    "\n",
    "\n",
    "def LoadFeatures():\n",
    "    documents_f = open(\"saved/word_features5k.p\", \"rb\")\n",
    "    word_features = pickle.load(documents_f)\n",
    "    documents_f.close()\n",
    "    return word_features"
   ]
  },
  {
   "cell_type": "markdown",
   "metadata": {},
   "source": [
    "## Classifier Confidence"
   ]
  },
  {
   "cell_type": "code",
   "execution_count": 33,
   "metadata": {
    "collapsed": true
   },
   "outputs": [],
   "source": [
    "from nltk.classify import ClassifierI\n",
    "from statistics import mode, StatisticsError\n",
    "\n",
    "\n",
    "class VoteClassifier(ClassifierI):\n",
    "    def __init__(self, classifiers):\n",
    "        self._classifiers = classifiers\n",
    "\n",
    "    def classify(self, features):\n",
    "        votes = []\n",
    "        for c in self._classifiers:\n",
    "            v = c.classify(features)\n",
    "            votes.append(v)\n",
    "#         ret = \"neg\"\n",
    "        \n",
    "        try:\n",
    "            ret = mode(votes)\n",
    "        except StatisticsError:\n",
    "            print(\"Caught1\")\n",
    "            pass\n",
    "        return ret\n",
    "\n",
    "    def confidence(self, features):\n",
    "        votes = []\n",
    "        for c in self._classifiers:\n",
    "            v = c.classify(features)\n",
    "            votes.append(v)\n",
    "\n",
    "        try:\n",
    "            choice_votes = votes.count(mode(votes))\n",
    "            conf = choice_votes / len(votes)\n",
    "            return conf\n",
    "        except StatisticsError:\n",
    "            print(\"Caught2\")\n",
    "            return 0.5"
   ]
  },
  {
   "cell_type": "markdown",
   "metadata": {},
   "source": [
    "## Category Classifier : Which categories?"
   ]
  },
  {
   "cell_type": "code",
   "execution_count": 34,
   "metadata": {
    "collapsed": true
   },
   "outputs": [],
   "source": [
    "class IABClassification:\n",
    "\n",
    "    def __init__(self):\n",
    "        classifiers = TrainClassifiers()\n",
    "#         classifiers = LoadClassifiers()\n",
    "#         self.votedClassifier = VoteClassifier(classifiers)\n",
    "#         self.new_features = LoadFeatures()\n",
    "\n",
    "    def Analyse(self, text):\n",
    "        new_features = find_features(text, self.new_features)\n",
    "        return self.votedClassifier.classify(new_features), self.votedClassifier.confidence(new_features)\n",
    "#         return self.votedClassifier.classify(new_features), self.votedClassifier.confidence(new_features), text"
   ]
  },
  {
   "cell_type": "markdown",
   "metadata": {},
   "source": [
    "## Creating classifier for IABClassification"
   ]
  },
  {
   "cell_type": "code",
   "execution_count": 35,
   "metadata": {
    "collapsed": true
   },
   "outputs": [],
   "source": [
    "# turn off pickle warning\n",
    "import warnings\n",
    "warnings.filterwarnings('ignore')"
   ]
  },
  {
   "cell_type": "code",
   "execution_count": 38,
   "metadata": {
    "collapsed": true
   },
   "outputs": [],
   "source": [
    "s = IABClassification()"
   ]
  }
 ],
 "metadata": {
  "kernelspec": {
   "display_name": "Python 3",
   "language": "python",
   "name": "python3"
  },
  "language_info": {
   "codemirror_mode": {
    "name": "ipython",
    "version": 3
   },
   "file_extension": ".py",
   "mimetype": "text/x-python",
   "name": "python",
   "nbconvert_exporter": "python",
   "pygments_lexer": "ipython3",
   "version": "3.6.1"
  }
 },
 "nbformat": 4,
 "nbformat_minor": 2
}
